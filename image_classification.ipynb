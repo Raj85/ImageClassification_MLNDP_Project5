{
 "cells": [
  {
   "cell_type": "markdown",
   "metadata": {
    "collapsed": true
   },
   "source": [
    "# Image Classification\n",
    "In this project, you'll classify images from the [CIFAR-10 dataset](https://www.cs.toronto.edu/~kriz/cifar.html).  The dataset consists of airplanes, dogs, cats, and other objects. You'll preprocess the images, then train a convolutional neural network on all the samples. The images need to be normalized and the labels need to be one-hot encoded.  You'll get to apply what you learned and build a convolutional, max pooling, dropout, and fully connected layers.  At the end, you'll get to see your neural network's predictions on the sample images.\n",
    "## Get the Data\n",
    "Run the following cell to download the [CIFAR-10 dataset for python](https://www.cs.toronto.edu/~kriz/cifar-10-python.tar.gz)."
   ]
  },
  {
   "cell_type": "code",
   "execution_count": 1,
   "metadata": {},
   "outputs": [
    {
     "name": "stdout",
     "output_type": "stream",
     "text": [
      "All files found!\n"
     ]
    }
   ],
   "source": [
    "\"\"\"\n",
    "DON'T MODIFY ANYTHING IN THIS CELL THAT IS BELOW THIS LINE\n",
    "\"\"\"\n",
    "from urllib.request import urlretrieve\n",
    "from os.path import isfile, isdir\n",
    "from tqdm import tqdm\n",
    "import problem_unittests as tests\n",
    "import tarfile\n",
    "\n",
    "cifar10_dataset_folder_path = 'cifar-10-batches-py'\n",
    "\n",
    "class DLProgress(tqdm):\n",
    "    last_block = 0\n",
    "\n",
    "    def hook(self, block_num=1, block_size=1, total_size=None):\n",
    "        self.total = total_size\n",
    "        self.update((block_num - self.last_block) * block_size)\n",
    "        self.last_block = block_num\n",
    "\n",
    "if not isfile('cifar-10-python.tar.gz'):\n",
    "    with DLProgress(unit='B', unit_scale=True, miniters=1, desc='CIFAR-10 Dataset') as pbar:\n",
    "        urlretrieve(\n",
    "            'https://www.cs.toronto.edu/~kriz/cifar-10-python.tar.gz',\n",
    "            'cifar-10-python.tar.gz',\n",
    "            pbar.hook)\n",
    "\n",
    "if not isdir(cifar10_dataset_folder_path):\n",
    "    with tarfile.open('cifar-10-python.tar.gz') as tar:\n",
    "        tar.extractall()\n",
    "        tar.close()\n",
    "\n",
    "\n",
    "tests.test_folder_path(cifar10_dataset_folder_path)"
   ]
  },
  {
   "cell_type": "markdown",
   "metadata": {},
   "source": [
    "## Explore the Data\n",
    "The dataset is broken into batches to prevent your machine from running out of memory.  The CIFAR-10 dataset consists of 5 batches, named `data_batch_1`, `data_batch_2`, etc.. Each batch contains the labels and images that are one of the following:\n",
    "* airplane\n",
    "* automobile\n",
    "* bird\n",
    "* cat\n",
    "* deer\n",
    "* dog\n",
    "* frog\n",
    "* horse\n",
    "* ship\n",
    "* truck\n",
    "\n",
    "Understanding a dataset is part of making predictions on the data.  Play around with the code cell below by changing the `batch_id` and `sample_id`. The `batch_id` is the id for a batch (1-5). The `sample_id` is the id for a image and label pair in the batch.\n",
    "\n",
    "Ask yourself \"What are all possible labels?\", \"What is the range of values for the image data?\", \"Are the labels in order or random?\".  Answers to questions like these will help you preprocess the data and end up with better predictions."
   ]
  },
  {
   "cell_type": "code",
   "execution_count": 13,
   "metadata": {},
   "outputs": [
    {
     "name": "stdout",
     "output_type": "stream",
     "text": [
      "\n",
      "Stats of batch 5:\n",
      "Samples: 10000\n",
      "Label Counts: {0: 1014, 1: 1014, 2: 952, 3: 1016, 4: 997, 5: 1025, 6: 980, 7: 977, 8: 1003, 9: 1022}\n",
      "First 20 Labels: [1, 8, 5, 1, 5, 7, 4, 3, 8, 2, 7, 2, 0, 1, 5, 9, 6, 2, 0, 8]\n",
      "\n",
      "Example of Image 0:\n",
      "Image - Min Value: 2 Max Value: 255\n",
      "Image - Shape: (32, 32, 3)\n",
      "Label - Label Id: 1 Name: automobile\n"
     ]
    },
    {
     "data": {
      "image/png": "[encoded data removed]",
      "text/plain": [
       "<matplotlib.figure.Figure at 0x1dea76224a8>"
      ]
     },
     "metadata": {
      "image/png": {
       "height": 250,
       "width": 253
      }
     },
     "output_type": "display_data"
    }
   ],
   "source": [
    "%matplotlib inline\n",
    "%config InlineBackend.figure_format = 'retina'\n",
    "\n",
    "import helper\n",
    "import numpy as np\n",
    "\n",
    "# Explore the dataset\n",
    "batch_id = 5\n",
    "sample_id = 0\n",
    "helper.display_stats(cifar10_dataset_folder_path, batch_id, sample_id)"
   ]
  },
  {
   "cell_type": "markdown",
   "metadata": {},
   "source": [
    "## Implement Preprocess Functions\n",
    "### Normalize\n",
    "In the cell below, implement the `normalize` function to take in image data, `x`, and return it as a normalized Numpy array. The values should be in the range of 0 to 1, inclusive.  The return object should be the same shape as `x`."
   ]
  },
  {
   "cell_type": "code",
   "execution_count": 40,
   "metadata": {},
   "outputs": [
    {
     "name": "stdout",
     "output_type": "stream",
     "text": [
      "Tests Passed\n"
     ]
    }
   ],
   "source": [
    "def normalize(x):\n",
    "    \"\"\"\n",
    "    Normalize a list of sample image data in the range of 0 to 1\n",
    "    : x: List of image data.  The image shape is (32, 32, 3)\n",
    "    : return: Numpy array of normalize data\n",
    "    \"\"\"\n",
    "    # TODO: Implement Function\n",
    "    # print (x)\n",
    "    y = x / 255\n",
    "    # print (y)\n",
    "    return y\n",
    "\n",
    "\n",
    "\"\"\"\n",
    "DON'T MODIFY ANYTHING IN THIS CELL THAT IS BELOW THIS LINE\n",
    "\"\"\"\n",
    "tests.test_normalize(normalize)"
   ]
  },
  {
   "cell_type": "markdown",
   "metadata": {},
   "source": [
    "### One-hot encode\n",
    "Just like the previous code cell, you'll be implementing a function for preprocessing.  This time, you'll implement the `one_hot_encode` function. The input, `x`, are a list of labels.  Implement the function to return the list of labels as One-Hot encoded Numpy array.  The possible values for labels are 0 to 9. The one-hot encoding function should return the same encoding for each value between each call to `one_hot_encode`.  Make sure to save the map of encodings outside the function.\n",
    "\n",
    "**Hint:**\n",
    "\n",
    "Look into LabelBinarizer in the preprocessing module of sklearn."
   ]
  },
  {
   "cell_type": "code",
   "execution_count": 21,
   "metadata": {},
   "outputs": [
    {
     "name": "stdout",
     "output_type": "stream",
     "text": [
      "[[ 1.  0.  0. ...,  0.  0.  0.]\n",
      " [ 0.  0.  0. ...,  0.  0.  1.]\n",
      " [ 0.  0.  1. ...,  0.  0.  0.]\n",
      " ..., \n",
      " [ 0.  0.  1. ...,  0.  0.  0.]\n",
      " [ 0.  0.  0. ...,  0.  0.  0.]\n",
      " [ 0.  0.  1. ...,  0.  0.  0.]]\n",
      "[[ 0.  1.  0.  0.  0.  0.  0.  0.  0.  0.]\n",
      " [ 0.  0.  0.  0.  0.  0.  1.  0.  0.  0.]\n",
      " [ 1.  0.  0.  0.  0.  0.  0.  0.  0.  0.]\n",
      " [ 0.  0.  0.  0.  0.  0.  0.  1.  0.  0.]\n",
      " [ 0.  0.  0.  0.  0.  0.  0.  0.  1.  0.]]\n",
      "Tests Passed\n"
     ]
    }
   ],
   "source": [
    "from sklearn.preprocessing import OneHotEncoder\n",
    "\n",
    "enc = OneHotEncoder(n_values=10)\n",
    "\n",
    "def one_hot_encode(x):\n",
    "    \"\"\"\n",
    "    One hot encode a list of sample labels. Return a one-hot encoded vector for each label.\n",
    "    : x: List of sample Labels\n",
    "    : return: Numpy array of one-hot encoded labels\n",
    "    \"\"\"\n",
    "    # TODO: Implement Function\n",
    "    #print(x)\n",
    "    reshp = np.array(x).reshape(-1,1)\n",
    "    #print (reshp)\n",
    "    encoded = enc.fit_transform(reshp).toarray()\n",
    "    print(encoded)\n",
    "    return encoded\n",
    "\n",
    "\"\"\"\n",
    "DON'T MODIFY ANYTHING IN THIS CELL THAT IS BELOW THIS LINE\n",
    "\"\"\"\n",
    "tests.test_one_hot_encode(one_hot_encode)"
   ]
  },
  {
   "cell_type": "markdown",
   "metadata": {},
   "source": [
    "### Randomize Data\n",
    "As you saw from exploring the data above, the order of the samples are randomized.  It doesn't hurt to randomize it again, but you don't need to for this dataset."
   ]
  },
  {
   "cell_type": "markdown",
   "metadata": {},
   "source": [
    "## Preprocess all the data and save it\n",
    "Running the code cell below will preprocess all the CIFAR-10 data and save it to file. The code below also uses 10% of the training data for validation."
   ]
  },
  {
   "cell_type": "code",
   "execution_count": 27,
   "metadata": {},
   "outputs": [
    {
     "name": "stdout",
     "output_type": "stream",
     "text": [
      "[[ 0.  0.  0. ...,  0.  0.  0.]\n",
      " [ 0.  0.  0. ...,  0.  0.  1.]\n",
      " [ 0.  0.  0. ...,  0.  0.  1.]\n",
      " ..., \n",
      " [ 0.  0.  0. ...,  0.  0.  0.]\n",
      " [ 0.  0.  0. ...,  0.  1.  0.]\n",
      " [ 0.  0.  0. ...,  0.  0.  1.]]\n",
      "[[ 0.  1.  0. ...,  0.  0.  0.]\n",
      " [ 0.  0.  0. ...,  0.  0.  0.]\n",
      " [ 0.  0.  0. ...,  0.  0.  0.]\n",
      " ..., \n",
      " [ 0.  0.  0. ...,  1.  0.  0.]\n",
      " [ 0.  0.  0. ...,  0.  0.  0.]\n",
      " [ 1.  0.  0. ...,  0.  0.  0.]]\n",
      "[[ 0.  0.  0. ...,  0.  1.  0.]\n",
      " [ 0.  0.  0. ...,  0.  0.  0.]\n",
      " [ 1.  0.  0. ...,  0.  0.  0.]\n",
      " ..., \n",
      " [ 0.  0.  0. ...,  0.  0.  0.]\n",
      " [ 0.  0.  0. ...,  0.  0.  0.]\n",
      " [ 0.  0.  0. ...,  0.  0.  0.]]\n",
      "[[ 1.  0.  0. ...,  0.  0.  0.]\n",
      " [ 0.  0.  0. ...,  0.  0.  0.]\n",
      " [ 1.  0.  0. ...,  0.  0.  0.]\n",
      " ..., \n",
      " [ 0.  0.  0. ...,  0.  0.  0.]\n",
      " [ 0.  0.  0. ...,  0.  0.  1.]\n",
      " [ 0.  0.  0. ...,  0.  0.  0.]]\n",
      "[[ 0.  1.  0. ...,  0.  0.  0.]\n",
      " [ 0.  0.  0. ...,  0.  1.  0.]\n",
      " [ 0.  0.  0. ...,  0.  0.  0.]\n",
      " ..., \n",
      " [ 0.  0.  0. ...,  0.  0.  0.]\n",
      " [ 0.  0.  0. ...,  0.  0.  1.]\n",
      " [ 0.  0.  0. ...,  0.  0.  0.]]\n",
      "[[ 0.  0.  0. ...,  0.  0.  0.]\n",
      " [ 0.  0.  1. ...,  0.  0.  0.]\n",
      " [ 0.  0.  1. ...,  0.  0.  0.]\n",
      " ..., \n",
      " [ 0.  0.  0. ...,  0.  0.  1.]\n",
      " [ 0.  1.  0. ...,  0.  0.  0.]\n",
      " [ 0.  1.  0. ...,  0.  0.  0.]]\n",
      "[[ 0.  0.  0. ...,  0.  0.  0.]\n",
      " [ 0.  0.  0. ...,  0.  1.  0.]\n",
      " [ 0.  0.  0. ...,  0.  1.  0.]\n",
      " ..., \n",
      " [ 0.  0.  0. ...,  0.  0.  0.]\n",
      " [ 0.  1.  0. ...,  0.  0.  0.]\n",
      " [ 0.  0.  0. ...,  1.  0.  0.]]\n"
     ]
    }
   ],
   "source": [
    "\"\"\"\n",
    "DON'T MODIFY ANYTHING IN THIS CELL\n",
    "\"\"\"\n",
    "# Preprocess Training, Validation, and Testing Data\n",
    "helper.preprocess_and_save_data(cifar10_dataset_folder_path, normalize, one_hot_encode)"
   ]
  },
  {
   "cell_type": "markdown",
   "metadata": {},
   "source": [
    "# Check Point\n",
    "This is your first checkpoint.  If you ever decide to come back to this notebook or have to restart the notebook, you can start from here.  The preprocessed data has been saved to disk."
   ]
  },
  {
   "cell_type": "code",
   "execution_count": 28,
   "metadata": {
    "collapsed": true
   },
   "outputs": [],
   "source": [
    "\"\"\"\n",
    "DON'T MODIFY ANYTHING IN THIS CELL\n",
    "\"\"\"\n",
    "import pickle\n",
    "import problem_unittests as tests\n",
    "import helper\n",
    "\n",
    "# Load the Preprocessed Validation data\n",
    "valid_features, valid_labels = pickle.load(open('preprocess_validation.p', mode='rb'))"
   ]
  },
  {
   "cell_type": "markdown",
   "metadata": {},
   "source": [
    "## Build the network\n",
    "For the neural network, you'll build each layer into a function.  Most of the code you've seen has been outside of functions. To test your code more thoroughly, we require that you put each layer in a function.  This allows us to give you better feedback and test for simple mistakes using our unittests before you submit your project.\n",
    "\n",
    ">**Note:** If you're finding it hard to dedicate enough time for this course each week, we've provided a small shortcut to this part of the project. In the next couple of problems, you'll have the option to use classes from the [TensorFlow Layers](https://www.tensorflow.org/api_docs/python/tf/layers) or [TensorFlow Layers (contrib)](https://www.tensorflow.org/api_guides/python/contrib.layers) packages to build each layer, except the layers you build in the \"Convolutional and Max Pooling Layer\" section.  TF Layers is similar to Keras's and TFLearn's abstraction to layers, so it's easy to pickup.\n",
    "\n",
    ">However, if you would like to get the most out of this course, try to solve all the problems _without_ using anything from the TF Layers packages. You **can** still use classes from other packages that happen to have the same name as ones you find in TF Layers! For example, instead of using the TF Layers version of the `conv2d` class, [tf.layers.conv2d](https://www.tensorflow.org/api_docs/python/tf/layers/conv2d), you would want to use the TF Neural Network version of `conv2d`, [tf.nn.conv2d](https://www.tensorflow.org/api_docs/python/tf/nn/conv2d). \n",
    "\n",
    "Let's begin!\n",
    "\n",
    "### Input\n",
    "The neural network needs to read the image data, one-hot encoded labels, and dropout keep probability. Implement the following functions\n",
    "* Implement `neural_net_image_input`\n",
    " * Return a [TF Placeholder](https://www.tensorflow.org/api_docs/python/tf/placeholder)\n",
    " * Set the shape using `image_shape` with batch size set to `None`.\n",
    " * Name the TensorFlow placeholder \"x\" using the TensorFlow `name` parameter in the [TF Placeholder](https://www.tensorflow.org/api_docs/python/tf/placeholder).\n",
    "* Implement `neural_net_label_input`\n",
    " * Return a [TF Placeholder](https://www.tensorflow.org/api_docs/python/tf/placeholder)\n",
    " * Set the shape using `n_classes` with batch size set to `None`.\n",
    " * Name the TensorFlow placeholder \"y\" using the TensorFlow `name` parameter in the [TF Placeholder](https://www.tensorflow.org/api_docs/python/tf/placeholder).\n",
    "* Implement `neural_net_keep_prob_input`\n",
    " * Return a [TF Placeholder](https://www.tensorflow.org/api_docs/python/tf/placeholder) for dropout keep probability.\n",
    " * Name the TensorFlow placeholder \"keep_prob\" using the TensorFlow `name` parameter in the [TF Placeholder](https://www.tensorflow.org/api_docs/python/tf/placeholder).\n",
    "\n",
    "These names will be used at the end of the project to load your saved model.\n",
    "\n",
    "Note: `None` for shapes in TensorFlow allow for a dynamic size."
   ]
  },
  {
   "cell_type": "code",
   "execution_count": 35,
   "metadata": {},
   "outputs": [
    {
     "ename": "NameError",
     "evalue": "name 'image_shape' is not defined",
     "output_type": "error",
     "traceback": [
      "\u001b[1;31m---------------------------------------------------------------------------\u001b[0m",
      "\u001b[1;31mNameError\u001b[0m                                 Traceback (most recent call last)",
      "\u001b[1;32m<ipython-input-35-a9ac2751746e>\u001b[0m in \u001b[0;36m<module>\u001b[1;34m()\u001b[0m\n\u001b[1;32m----> 1\u001b[1;33m \u001b[0mlist\u001b[0m\u001b[1;33m(\u001b[0m\u001b[0mrange\u001b[0m\u001b[1;33m(\u001b[0m\u001b[1;33m*\u001b[0m\u001b[0mimage_shape\u001b[0m\u001b[1;33m)\u001b[0m\u001b[1;33m)\u001b[0m\u001b[1;33m\u001b[0m\u001b[0m\n\u001b[0m",
      "\u001b[1;31mNameError\u001b[0m: name 'image_shape' is not defined"
     ]
    }
   ],
   "source": [
    "list(range(*image_shape))"
   ]
  },
  {
   "cell_type": "code",
   "execution_count": 30,
   "metadata": {},
   "outputs": [
    {
     "name": "stdout",
     "output_type": "stream",
     "text": [
      "Image Input Tests Passed.\n",
      "Label Input Tests Passed.\n",
      "Keep Prob Tests Passed.\n"
     ]
    }
   ],
   "source": [
    "import tensorflow as tf\n",
    "\n",
    "def neural_net_image_input(image_shape):\n",
    "    \"\"\"\n",
    "    Return a Tensor for a batch of image input\n",
    "    : image_shape: Shape of the images\n",
    "    : return: Tensor for image input.\n",
    "    \"\"\"\n",
    "    # TODO: Implement Function\n",
    "    return tf.placeholder(tf.float32, shape=(None, *image_shape), name='x')\n",
    "    # using unpacking fucntion for image_shape list\n",
    "\n",
    "def neural_net_label_input(n_classes):\n",
    "    \"\"\"\n",
    "    Return a Tensor for a batch of label input\n",
    "    : n_classes: Number of classes\n",
    "    : return: Tensor for label input.\n",
    "    \"\"\"\n",
    "    # TODO: Implement Function\n",
    "    return tf.placeholder(tf.float32, shape=(None, n_classes), name='y')\n",
    "\n",
    "\n",
    "def neural_net_keep_prob_input():\n",
    "    \"\"\"\n",
    "    Return a Tensor for keep probability\n",
    "    : return: Tensor for keep probability.\n",
    "    \"\"\"\n",
    "    # TODO: Implement Function\n",
    "    return tf.placeholder(tf.float32,shape=(None), name='keep_prob')\n",
    "\n",
    "\n",
    "\"\"\"\n",
    "DON'T MODIFY ANYTHING IN THIS CELL THAT IS BELOW THIS LINE\n",
    "\"\"\"\n",
    "tf.reset_default_graph()\n",
    "tests.test_nn_image_inputs(neural_net_image_input)\n",
    "tests.test_nn_label_inputs(neural_net_label_input)\n",
    "tests.test_nn_keep_prob_inputs(neural_net_keep_prob_input)"
   ]
  },
  {
   "cell_type": "markdown",
   "metadata": {},
   "source": [
    "### Convolution and Max Pooling Layer\n",
    "Convolution layers have a lot of success with images. For this code cell, you should implement the function `conv2d_maxpool` to apply convolution then max pooling:\n",
    "* Create the weight and bias using `conv_ksize`, `conv_num_outputs` and the shape of `x_tensor`.\n",
    "* Apply a convolution to `x_tensor` using weight and `conv_strides`.\n",
    " * We recommend you use same padding, but you're welcome to use any padding.\n",
    "* Add bias\n",
    "* Add a nonlinear activation to the convolution.\n",
    "* Apply Max Pooling using `pool_ksize` and `pool_strides`.\n",
    " * We recommend you use same padding, but you're welcome to use any padding.\n",
    "\n",
    "**Note:** You **can't** use [TensorFlow Layers](https://www.tensorflow.org/api_docs/python/tf/layers) or [TensorFlow Layers (contrib)](https://www.tensorflow.org/api_guides/python/contrib.layers) for **this** layer, but you can still use TensorFlow's [Neural Network](https://www.tensorflow.org/api_docs/python/tf/nn) package. You may still use the shortcut option for all the **other** layers.\n",
    "\n",
    "** Hint: **\n",
    "\n",
    "When unpacking values as an argument in Python, look into the [unpacking](https://docs.python.org/3/tutorial/controlflow.html#unpacking-argument-lists) operator. "
   ]
  },
  {
   "cell_type": "code",
   "execution_count": 59,
   "metadata": {},
   "outputs": [
    {
     "name": "stdout",
     "output_type": "stream",
     "text": [
      "Tests Passed\n"
     ]
    }
   ],
   "source": [
    "def conv2d_maxpool(x_tensor, conv_num_outputs, conv_ksize, conv_strides, pool_ksize, pool_strides):\n",
    "    \"\"\"\n",
    "    Apply convolution then max pooling to x_tensor\n",
    "    :param x_tensor: TensorFlow Tensor\n",
    "    :param conv_num_outputs: Number of outputs for the convolutional layer\n",
    "    :param conv_ksize: kernal size 2-D Tuple for the convolutional layer\n",
    "    :param conv_strides: Stride 2-D Tuple for convolution\n",
    "    :param pool_ksize: kernal size 2-D Tuple for pool\n",
    "    :param pool_strides: Stride 2-D Tuple for pool\n",
    "    : return: A tensor that represents convolution and max pooling of x_tensor\n",
    "    \"\"\"\n",
    "    # TODO: Implement Function\n",
    "    \n",
    "    tns_shape = x_tensor.get_shape().as_list()\n",
    "    convsize = list(conv_ksize)\n",
    "    weights_shape = convsize + [tns_shape[3], conv_num_outputs]\n",
    "\n",
    "    # Weights and Bias\n",
    "    \n",
    "    weights = tf.Variable(tf.truncated_normal(weights_shape, stddev = 0.1))\n",
    "    # print(weights)\n",
    "    bias = tf.Variable(tf.zeros(conv_num_outputs))\n",
    "    # print(bias)\n",
    "    \n",
    "    # Convolution Layer\n",
    "    # Batch = 1 and Channel = 1\n",
    "    convstrd = [1, conv_strides[0], conv_strides[1], 1]\n",
    "    \n",
    "    output = tf.nn.conv2d(x_tensor, weights, strides = convstrd, padding='SAME')\n",
    "    output = tf.nn.bias_add(output, bias)\n",
    "    output = tf.nn.relu(output)\n",
    "    \n",
    "    # Pooling layer\n",
    "    # Batch = 1 and Channel = 1\n",
    "    plsz = [1, pool_ksize[0], pool_ksize[1], 1]\n",
    "    plstrd = [1, pool_strides[0], pool_strides[1], 1]\n",
    "    \n",
    "    output = tf.nn.max_pool(output, ksize = plsz, strides = plstrd, padding = 'SAME')                                  \n",
    "    \n",
    "    return output\n",
    "   \n",
    "    \n",
    "\"\"\"\n",
    "DON'T MODIFY ANYTHING IN THIS CELL THAT IS BELOW THIS LINE\n",
    "\"\"\"\n",
    "tests.test_con_pool(conv2d_maxpool)"
   ]
  },
  {
   "cell_type": "markdown",
   "metadata": {},
   "source": [
    "### Flatten Layer\n",
    "Implement the `flatten` function to change the dimension of `x_tensor` from a 4-D tensor to a 2-D tensor.  The output should be the shape (*Batch Size*, *Flattened Image Size*). Shortcut option: you can use classes from the [TensorFlow Layers](https://www.tensorflow.org/api_docs/python/tf/layers) or [TensorFlow Layers (contrib)](https://www.tensorflow.org/api_guides/python/contrib.layers) packages for this layer. For more of a challenge, only use other TensorFlow packages."
   ]
  },
  {
   "cell_type": "code",
   "execution_count": 56,
   "metadata": {},
   "outputs": [
    {
     "name": "stdout",
     "output_type": "stream",
     "text": [
      "Tests Passed\n"
     ]
    }
   ],
   "source": [
    "def flatten(x_tensor):\n",
    "    \"\"\"\n",
    "    Flatten x_tensor to (Batch Size, Flattened Image Size)\n",
    "    : x_tensor: A tensor of size (Batch Size, ...), where ... are the image dimensions.\n",
    "    : return: A tensor of size (Batch Size, Flattened Image Size).\n",
    "    \"\"\"\n",
    "    # TODO: Implement Function\n",
    "    return tf.contrib.layers.flatten(x_tensor)\n",
    "\n",
    "\n",
    "\"\"\"\n",
    "DON'T MODIFY ANYTHING IN THIS CELL THAT IS BELOW THIS LINE\n",
    "\"\"\"\n",
    "tests.test_flatten(flatten)"
   ]
  },
  {
   "cell_type": "markdown",
   "metadata": {},
   "source": [
    "### Fully-Connected Layer\n",
    "Implement the `fully_conn` function to apply a fully connected layer to `x_tensor` with the shape (*Batch Size*, *num_outputs*). Shortcut option: you can use classes from the [TensorFlow Layers](https://www.tensorflow.org/api_docs/python/tf/layers) or [TensorFlow Layers (contrib)](https://www.tensorflow.org/api_guides/python/contrib.layers) packages for this layer. For more of a challenge, only use other TensorFlow packages."
   ]
  },
  {
   "cell_type": "code",
   "execution_count": 60,
   "metadata": {},
   "outputs": [
    {
     "name": "stdout",
     "output_type": "stream",
     "text": [
      "Tests Passed\n"
     ]
    }
   ],
   "source": [
    "def fully_conn(x_tensor, num_outputs):\n",
    "    \"\"\"\n",
    "    Apply a fully connected layer to x_tensor using weight and bias\n",
    "    : x_tensor: A 2-D tensor where the first dimension is batch size.\n",
    "    : num_outputs: The number of output that the new tensor should be.\n",
    "    : return: A 2-D tensor where the second dimension is num_outputs.\n",
    "    \"\"\"\n",
    "    # TODO: Implement Function\n",
    "    return tf.contrib.layers.fully_connected(x_tensor, num_outputs, activation_fn=tf.nn.relu)\n",
    "\n",
    "\n",
    "\"\"\"\n",
    "DON'T MODIFY ANYTHING IN THIS CELL THAT IS BELOW THIS LINE\n",
    "\"\"\"\n",
    "tests.test_fully_conn(fully_conn)"
   ]
  },
  {
   "cell_type": "markdown",
   "metadata": {},
   "source": [
    "### Output Layer\n",
    "Implement the `output` function to apply a fully connected layer to `x_tensor` with the shape (*Batch Size*, *num_outputs*). Shortcut option: you can use classes from the [TensorFlow Layers](https://www.tensorflow.org/api_docs/python/tf/layers) or [TensorFlow Layers (contrib)](https://www.tensorflow.org/api_guides/python/contrib.layers) packages for this layer. For more of a challenge, only use other TensorFlow packages.\n",
    "\n",
    "**Note:** Activation, softmax, or cross entropy should **not** be applied to this."
   ]
  },
  {
   "cell_type": "code",
   "execution_count": 61,
   "metadata": {},
   "outputs": [
    {
     "name": "stdout",
     "output_type": "stream",
     "text": [
      "Tests Passed\n"
     ]
    }
   ],
   "source": [
    "def output(x_tensor, num_outputs):\n",
    "    \"\"\"\n",
    "    Apply a output layer to x_tensor using weight and bias\n",
    "    : x_tensor: A 2-D tensor where the first dimension is batch size.\n",
    "    : num_outputs: The number of output that the new tensor should be.\n",
    "    : return: A 2-D tensor where the second dimension is num_outputs.\n",
    "    \"\"\"\n",
    "    # TODO: Implement Function\n",
    "    return tf.contrib.layers.fully_connected(x_tensor, num_outputs)\n",
    "\n",
    "\n",
    "\"\"\"\n",
    "DON'T MODIFY ANYTHING IN THIS CELL THAT IS BELOW THIS LINE\n",
    "\"\"\"\n",
    "tests.test_output(output)"
   ]
  },
  {
   "cell_type": "markdown",
   "metadata": {},
   "source": [
    "### Create Convolutional Model\n",
    "Implement the function `conv_net` to create a convolutional neural network model. The function takes in a batch of images, `x`, and outputs logits.  Use the layers you created above to create this model:\n",
    "\n",
    "* Apply 1, 2, or 3 Convolution and Max Pool layers\n",
    "* Apply a Flatten Layer\n",
    "* Apply 1, 2, or 3 Fully Connected Layers\n",
    "* Apply an Output Layer\n",
    "* Return the output\n",
    "* Apply [TensorFlow's Dropout](https://www.tensorflow.org/api_docs/python/tf/nn/dropout) to one or more layers in the model using `keep_prob`. "
   ]
  },
  {
   "cell_type": "code",
   "execution_count": 94,
   "metadata": {},
   "outputs": [
    {
     "name": "stdout",
     "output_type": "stream",
     "text": [
      "Neural Network Built!\n"
     ]
    }
   ],
   "source": [
    "def conv_net(x, keep_prob):\n",
    "    \"\"\"\n",
    "    Create a convolutional neural network model\n",
    "    : x: Placeholder tensor that holds image data.\n",
    "    : keep_prob: Placeholder tensor that hold dropout keep probability.\n",
    "    : return: Tensor that represents logits\n",
    "    \"\"\"\n",
    "    # TODO: Apply 1, 2, or 3 Convolution and Max Pool layers\n",
    "    #    Play around with different number of outputs, kernel size and stride\n",
    "    # Function Definition from Above:\n",
    "    #    conv2d_maxpool(x_tensor, conv_num_outputs, conv_ksize, conv_strides, pool_ksize, pool_strides)\n",
    "    \n",
    " \n",
    "    con_pool = conv2d_maxpool(x, 32,[8, 8], [4, 4], [2, 2], [2, 2])\n",
    "    con_pool = conv2d_maxpool(con_pool, 64,[3, 3], [1, 1], [2, 2], [2, 2])\n",
    "    con_pool = conv2d_maxpool(con_pool, 128,[2, 2], [1, 1], [2, 2], [2, 2])\n",
    "\n",
    "    # TODO: Apply a Flatten Layer\n",
    "    # Function Definition from Above:\n",
    "    #   flatten(x_tensor)\n",
    "    Flat_Layer = flatten(con_pool)\n",
    "    Flat_Layer = tf.nn.dropout(Flat_Layer, keep_prob)\n",
    "\n",
    "    # TODO: Apply 1, 2, or 3 Fully Connected Layers\n",
    "    #    Play around with different number of outputs\n",
    "    # Function Definition from Above:\n",
    "    #   fully_conn(x_tensor, num_outputs)\n",
    "    Full_Layer = fully_conn(Flat_Layer,100)\n",
    "    Full_Layer = tf.nn.dropout(Full_Layer, keep_prob)\n",
    "    \n",
    "   \n",
    "    # TODO: Apply an Output Layer\n",
    "    #    Set this to the number of classes\n",
    "    # Function Definition from Above:\n",
    "    #   output(x_tensor, num_outputs)\n",
    "    Output_Layer = output(Full_Layer, 10)\n",
    "    \n",
    "    # TODO: return output\n",
    "    return Output_Layer\n",
    "\n",
    "\n",
    "\"\"\"\n",
    "DON'T MODIFY ANYTHING IN THIS CELL THAT IS BELOW THIS LINE\n",
    "\"\"\"\n",
    "\n",
    "##############################\n",
    "## Build the Neural Network ##\n",
    "##############################\n",
    "\n",
    "# Remove previous weights, bias, inputs, etc..\n",
    "tf.reset_default_graph()\n",
    "\n",
    "# Inputs\n",
    "x = neural_net_image_input((32, 32, 3))\n",
    "y = neural_net_label_input(10)\n",
    "keep_prob = neural_net_keep_prob_input()\n",
    "\n",
    "# Model\n",
    "logits = conv_net(x, keep_prob)\n",
    "\n",
    "# Name logits Tensor, so that is can be loaded from disk after training\n",
    "logits = tf.identity(logits, name='logits')\n",
    "\n",
    "# Loss and Optimizer\n",
    "cost = tf.reduce_mean(tf.nn.softmax_cross_entropy_with_logits(logits=logits, labels=y))\n",
    "optimizer = tf.train.AdamOptimizer().minimize(cost)\n",
    "\n",
    "# Accuracy\n",
    "correct_pred = tf.equal(tf.argmax(logits, 1), tf.argmax(y, 1))\n",
    "accuracy = tf.reduce_mean(tf.cast(correct_pred, tf.float32), name='accuracy')\n",
    "\n",
    "tests.test_conv_net(conv_net)"
   ]
  },
  {
   "cell_type": "markdown",
   "metadata": {},
   "source": [
    "## Train the Neural Network\n",
    "### Single Optimization\n",
    "Implement the function `train_neural_network` to do a single optimization.  The optimization should use `optimizer` to optimize in `session` with a `feed_dict` of the following:\n",
    "* `x` for image input\n",
    "* `y` for labels\n",
    "* `keep_prob` for keep probability for dropout\n",
    "\n",
    "This function will be called for each batch, so `tf.global_variables_initializer()` has already been called.\n",
    "\n",
    "Note: Nothing needs to be returned. This function is only optimizing the neural network."
   ]
  },
  {
   "cell_type": "code",
   "execution_count": 95,
   "metadata": {},
   "outputs": [
    {
     "name": "stdout",
     "output_type": "stream",
     "text": [
      "Tests Passed\n"
     ]
    }
   ],
   "source": [
    "def train_neural_network(session, optimizer, keep_probability, feature_batch, label_batch):\n",
    "    \"\"\"\n",
    "    Optimize the session on a batch of images and labels\n",
    "    : session: Current TensorFlow session\n",
    "    : optimizer: TensorFlow optimizer function\n",
    "    : keep_probability: keep probability\n",
    "    : feature_batch: Batch of Numpy image data\n",
    "    : label_batch: Batch of Numpy label data\n",
    "    \"\"\"\n",
    "    # TODO: Implement Function\n",
    "    session.run(optimizer, feed_dict={x: feature_batch, y:label_batch, keep_prob: keep_probability})\n",
    "    pass\n",
    "\n",
    "\n",
    "\"\"\"\n",
    "DON'T MODIFY ANYTHING IN THIS CELL THAT IS BELOW THIS LINE\n",
    "\"\"\"\n",
    "tests.test_train_nn(train_neural_network)"
   ]
  },
  {
   "cell_type": "markdown",
   "metadata": {},
   "source": [
    "### Show Stats\n",
    "Implement the function `print_stats` to print loss and validation accuracy.  Use the global variables `valid_features` and `valid_labels` to calculate validation accuracy.  Use a keep probability of `1.0` to calculate the loss and validation accuracy."
   ]
  },
  {
   "cell_type": "code",
   "execution_count": 96,
   "metadata": {
    "collapsed": true
   },
   "outputs": [],
   "source": [
    "def print_stats(session, feature_batch, label_batch, cost, accuracy):\n",
    "    \"\"\"\n",
    "    Print information about loss and validation accuracy\n",
    "    : session: Current TensorFlow session\n",
    "    : feature_batch: Batch of Numpy image data\n",
    "    : label_batch: Batch of Numpy label data\n",
    "    : cost: TensorFlow cost function\n",
    "    : accuracy: TensorFlow accuracy function\n",
    "    \"\"\"\n",
    "    # TODO: Implement Function\n",
    "    loss = session.run(cost, feed_dict={x:feature_batch, y:label_batch, keep_prob: 1.0})\n",
    "    accuracy = session.run(accuracy, feed_dict={x: valid_features, y:valid_labels, keep_prob:1.0})\n",
    "    print(' Loss : {} '.format(loss))\n",
    "    print(' Validation Accuracy : {} '.format(accuracy))"
   ]
  },
  {
   "cell_type": "markdown",
   "metadata": {},
   "source": [
    "### Hyperparameters\n",
    "Tune the following parameters:\n",
    "* Set `epochs` to the number of iterations until the network stops learning or start overfitting\n",
    "* Set `batch_size` to the highest number that your machine has memory for.  Most people set them to common sizes of memory:\n",
    " * 64\n",
    " * 128\n",
    " * 256\n",
    " * ...\n",
    "* Set `keep_probability` to the probability of keeping a node using dropout"
   ]
  },
  {
   "cell_type": "code",
   "execution_count": 98,
   "metadata": {
    "collapsed": true
   },
   "outputs": [],
   "source": [
    "# TODO: Tune Parameters\n",
    "epochs = 20\n",
    "batch_size = 128\n",
    "keep_probability = 0.75"
   ]
  },
  {
   "cell_type": "markdown",
   "metadata": {},
   "source": [
    "### Train on a Single CIFAR-10 Batch\n",
    "Instead of training the neural network on all the CIFAR-10 batches of data, let's use a single batch. This should save time while you iterate on the model to get a better accuracy.  Once the final validation accuracy is 50% or greater, run the model on all the data in the next section."
   ]
  },
  {
   "cell_type": "code",
   "execution_count": 99,
   "metadata": {},
   "outputs": [
    {
     "name": "stdout",
     "output_type": "stream",
     "text": [
      "Checking the Training on a Single Batch...\n",
      "Epoch  1, CIFAR-10 Batch 1:   Loss : 2.1668529510498047 \n",
      " Validation Accuracy : 0.25040000677108765 \n",
      "Epoch  2, CIFAR-10 Batch 1:   Loss : 2.078336715698242 \n",
      " Validation Accuracy : 0.3246000111103058 \n",
      "Epoch  3, CIFAR-10 Batch 1:   Loss : 2.0010695457458496 \n",
      " Validation Accuracy : 0.3424000144004822 \n",
      "Epoch  4, CIFAR-10 Batch 1:   Loss : 1.9298769235610962 \n",
      " Validation Accuracy : 0.39079999923706055 \n",
      "Epoch  5, CIFAR-10 Batch 1:   Loss : 1.8380235433578491 \n",
      " Validation Accuracy : 0.4009999930858612 \n",
      "Epoch  6, CIFAR-10 Batch 1:   Loss : 1.701473593711853 \n",
      " Validation Accuracy : 0.4129999876022339 \n",
      "Epoch  7, CIFAR-10 Batch 1:   Loss : 1.6599338054656982 \n",
      " Validation Accuracy : 0.423799991607666 \n",
      "Epoch  8, CIFAR-10 Batch 1:   Loss : 1.4672067165374756 \n",
      " Validation Accuracy : 0.4262000024318695 \n",
      "Epoch  9, CIFAR-10 Batch 1:   Loss : 1.38689386844635 \n",
      " Validation Accuracy : 0.43959999084472656 \n",
      "Epoch 10, CIFAR-10 Batch 1:   Loss : 1.3106071949005127 \n",
      " Validation Accuracy : 0.4535999894142151 \n",
      "Epoch 11, CIFAR-10 Batch 1:   Loss : 1.280072569847107 \n",
      " Validation Accuracy : 0.45879998803138733 \n",
      "Epoch 12, CIFAR-10 Batch 1:   Loss : 1.1833209991455078 \n",
      " Validation Accuracy : 0.4684000015258789 \n",
      "Epoch 13, CIFAR-10 Batch 1:   Loss : 1.1286628246307373 \n",
      " Validation Accuracy : 0.46399998664855957 \n",
      "Epoch 14, CIFAR-10 Batch 1:   Loss : 1.0466630458831787 \n",
      " Validation Accuracy : 0.4772000014781952 \n",
      "Epoch 15, CIFAR-10 Batch 1:   Loss : 1.0619288682937622 \n",
      " Validation Accuracy : 0.4758000075817108 \n",
      "Epoch 16, CIFAR-10 Batch 1:   Loss : 0.9438657760620117 \n",
      " Validation Accuracy : 0.47940000891685486 \n",
      "Epoch 17, CIFAR-10 Batch 1:   Loss : 0.776759147644043 \n",
      " Validation Accuracy : 0.501800000667572 \n",
      "Epoch 18, CIFAR-10 Batch 1:   Loss : 0.727392852306366 \n",
      " Validation Accuracy : 0.5037999749183655 \n",
      "Epoch 19, CIFAR-10 Batch 1:   Loss : 0.7220478057861328 \n",
      " Validation Accuracy : 0.5085999965667725 \n",
      "Epoch 20, CIFAR-10 Batch 1:   Loss : 0.6976126432418823 \n",
      " Validation Accuracy : 0.5034000277519226 \n"
     ]
    }
   ],
   "source": [
    "\"\"\"\n",
    "DON'T MODIFY ANYTHING IN THIS CELL\n",
    "\"\"\"\n",
    "print('Checking the Training on a Single Batch...')\n",
    "with tf.Session() as sess:\n",
    "    # Initializing the variables\n",
    "    sess.run(tf.global_variables_initializer())\n",
    "    \n",
    "    # Training cycle\n",
    "    for epoch in range(epochs):\n",
    "        batch_i = 1\n",
    "        for batch_features, batch_labels in helper.load_preprocess_training_batch(batch_i, batch_size):\n",
    "            train_neural_network(sess, optimizer, keep_probability, batch_features, batch_labels)\n",
    "        print('Epoch {:>2}, CIFAR-10 Batch {}:  '.format(epoch + 1, batch_i), end='')\n",
    "        print_stats(sess, batch_features, batch_labels, cost, accuracy)"
   ]
  },
  {
   "cell_type": "markdown",
   "metadata": {},
   "source": [
    "### Fully Train the Model\n",
    "Now that you got a good accuracy with a single CIFAR-10 batch, try it with all five batches."
   ]
  },
  {
   "cell_type": "code",
   "execution_count": 100,
   "metadata": {},
   "outputs": [
    {
     "name": "stdout",
     "output_type": "stream",
     "text": [
      "Training...\n",
      "Epoch  1, CIFAR-10 Batch 1:   Loss : 2.1718244552612305 \n",
      " Validation Accuracy : 0.2662000060081482 \n",
      "Epoch  1, CIFAR-10 Batch 2:   Loss : 1.933872938156128 \n",
      " Validation Accuracy : 0.326200008392334 \n",
      "Epoch  1, CIFAR-10 Batch 3:   Loss : 1.6321818828582764 \n",
      " Validation Accuracy : 0.3693999946117401 \n",
      "Epoch  1, CIFAR-10 Batch 4:   Loss : 1.735640287399292 \n",
      " Validation Accuracy : 0.4198000133037567 \n",
      "Epoch  1, CIFAR-10 Batch 5:   Loss : 1.5957831144332886 \n",
      " Validation Accuracy : 0.43799999356269836 \n",
      "Epoch  2, CIFAR-10 Batch 1:   Loss : 1.7720407247543335 \n",
      " Validation Accuracy : 0.453000009059906 \n",
      "Epoch  2, CIFAR-10 Batch 2:   Loss : 1.580216646194458 \n",
      " Validation Accuracy : 0.4368000030517578 \n",
      "Epoch  2, CIFAR-10 Batch 3:   Loss : 1.2846075296401978 \n",
      " Validation Accuracy : 0.45579999685287476 \n",
      "Epoch  2, CIFAR-10 Batch 4:   Loss : 1.4618558883666992 \n",
      " Validation Accuracy : 0.46959999203681946 \n",
      "Epoch  2, CIFAR-10 Batch 5:   Loss : 1.440233588218689 \n",
      " Validation Accuracy : 0.47540000081062317 \n",
      "Epoch  3, CIFAR-10 Batch 1:   Loss : 1.608338713645935 \n",
      " Validation Accuracy : 0.49459999799728394 \n",
      "Epoch  3, CIFAR-10 Batch 2:   Loss : 1.3271211385726929 \n",
      " Validation Accuracy : 0.4918000102043152 \n",
      "Epoch  3, CIFAR-10 Batch 3:   Loss : 1.1390317678451538 \n",
      " Validation Accuracy : 0.4912000000476837 \n",
      "Epoch  3, CIFAR-10 Batch 4:   Loss : 1.2594436407089233 \n",
      " Validation Accuracy : 0.5108000040054321 \n",
      "Epoch  3, CIFAR-10 Batch 5:   Loss : 1.3100128173828125 \n",
      " Validation Accuracy : 0.5062000155448914 \n",
      "Epoch  4, CIFAR-10 Batch 1:   Loss : 1.5430843830108643 \n",
      " Validation Accuracy : 0.5080000162124634 \n",
      "Epoch  4, CIFAR-10 Batch 2:   Loss : 1.2475100755691528 \n",
      " Validation Accuracy : 0.5199999809265137 \n",
      "Epoch  4, CIFAR-10 Batch 3:   Loss : 1.029400110244751 \n",
      " Validation Accuracy : 0.5185999870300293 \n",
      "Epoch  4, CIFAR-10 Batch 4:   Loss : 1.0980466604232788 \n",
      " Validation Accuracy : 0.5284000039100647 \n",
      "Epoch  4, CIFAR-10 Batch 5:   Loss : 1.1914079189300537 \n",
      " Validation Accuracy : 0.5284000039100647 \n",
      "Epoch  5, CIFAR-10 Batch 1:   Loss : 1.3503267765045166 \n",
      " Validation Accuracy : 0.5284000039100647 \n",
      "Epoch  5, CIFAR-10 Batch 2:   Loss : 1.1407173871994019 \n",
      " Validation Accuracy : 0.5388000011444092 \n",
      "Epoch  5, CIFAR-10 Batch 3:   Loss : 0.9563496708869934 \n",
      " Validation Accuracy : 0.5401999950408936 \n",
      "Epoch  5, CIFAR-10 Batch 4:   Loss : 0.9799559712409973 \n",
      " Validation Accuracy : 0.5428000092506409 \n",
      "Epoch  5, CIFAR-10 Batch 5:   Loss : 1.0531134605407715 \n",
      " Validation Accuracy : 0.5429999828338623 \n",
      "Epoch  6, CIFAR-10 Batch 1:   Loss : 1.1829413175582886 \n",
      " Validation Accuracy : 0.5329999923706055 \n",
      "Epoch  6, CIFAR-10 Batch 2:   Loss : 0.9927455186843872 \n",
      " Validation Accuracy : 0.550000011920929 \n",
      "Epoch  6, CIFAR-10 Batch 3:   Loss : 0.8142051696777344 \n",
      " Validation Accuracy : 0.5529999732971191 \n",
      "Epoch  6, CIFAR-10 Batch 4:   Loss : 0.9093297719955444 \n",
      " Validation Accuracy : 0.5511999726295471 \n",
      "Epoch  6, CIFAR-10 Batch 5:   Loss : 1.0093963146209717 \n",
      " Validation Accuracy : 0.5582000017166138 \n",
      "Epoch  7, CIFAR-10 Batch 1:   Loss : 1.0552937984466553 \n",
      " Validation Accuracy : 0.5515999794006348 \n",
      "Epoch  7, CIFAR-10 Batch 2:   Loss : 0.9651387929916382 \n",
      " Validation Accuracy : 0.5523999929428101 \n",
      "Epoch  7, CIFAR-10 Batch 3:   Loss : 0.7453163266181946 \n",
      " Validation Accuracy : 0.5655999779701233 \n",
      "Epoch  7, CIFAR-10 Batch 4:   Loss : 0.8367379307746887 \n",
      " Validation Accuracy : 0.5644000172615051 \n",
      "Epoch  7, CIFAR-10 Batch 5:   Loss : 1.0132611989974976 \n",
      " Validation Accuracy : 0.5595999956130981 \n",
      "Epoch  8, CIFAR-10 Batch 1:   Loss : 1.0392372608184814 \n",
      " Validation Accuracy : 0.5555999875068665 \n",
      "Epoch  8, CIFAR-10 Batch 2:   Loss : 0.9082954525947571 \n",
      " Validation Accuracy : 0.5658000111579895 \n",
      "Epoch  8, CIFAR-10 Batch 3:   Loss : 0.6983693242073059 \n",
      " Validation Accuracy : 0.5699999928474426 \n",
      "Epoch  8, CIFAR-10 Batch 4:   Loss : 0.7579436302185059 \n",
      " Validation Accuracy : 0.5734000205993652 \n",
      "Epoch  8, CIFAR-10 Batch 5:   Loss : 0.8828484416007996 \n",
      " Validation Accuracy : 0.5708000063896179 \n",
      "Epoch  9, CIFAR-10 Batch 1:   Loss : 0.9259061813354492 \n",
      " Validation Accuracy : 0.5758000016212463 \n",
      "Epoch  9, CIFAR-10 Batch 2:   Loss : 0.8593357801437378 \n",
      " Validation Accuracy : 0.5698000192642212 \n",
      "Epoch  9, CIFAR-10 Batch 3:   Loss : 0.630068838596344 \n",
      " Validation Accuracy : 0.5799999833106995 \n",
      "Epoch  9, CIFAR-10 Batch 4:   Loss : 0.7238674163818359 \n",
      " Validation Accuracy : 0.5831999778747559 \n",
      "Epoch  9, CIFAR-10 Batch 5:   Loss : 0.8701848983764648 \n",
      " Validation Accuracy : 0.5716000199317932 \n",
      "Epoch 10, CIFAR-10 Batch 1:   Loss : 0.9105538129806519 \n",
      " Validation Accuracy : 0.5884000062942505 \n",
      "Epoch 10, CIFAR-10 Batch 2:   Loss : 0.8275020718574524 \n",
      " Validation Accuracy : 0.5703999996185303 \n",
      "Epoch 10, CIFAR-10 Batch 3:   Loss : 0.5828235745429993 \n",
      " Validation Accuracy : 0.5852000117301941 \n",
      "Epoch 10, CIFAR-10 Batch 4:   Loss : 0.6731971502304077 \n",
      " Validation Accuracy : 0.579200029373169 \n",
      "Epoch 10, CIFAR-10 Batch 5:   Loss : 0.8102684020996094 \n",
      " Validation Accuracy : 0.5708000063896179 \n",
      "Epoch 11, CIFAR-10 Batch 1:   Loss : 0.8537914156913757 \n",
      " Validation Accuracy : 0.5838000178337097 \n",
      "Epoch 11, CIFAR-10 Batch 2:   Loss : 0.7152866125106812 \n",
      " Validation Accuracy : 0.5705999732017517 \n",
      "Epoch 11, CIFAR-10 Batch 3:   Loss : 0.5792800784111023 \n",
      " Validation Accuracy : 0.5888000130653381 \n",
      "Epoch 11, CIFAR-10 Batch 4:   Loss : 0.6046603322029114 \n",
      " Validation Accuracy : 0.5817999839782715 \n",
      "Epoch 11, CIFAR-10 Batch 5:   Loss : 0.723772406578064 \n",
      " Validation Accuracy : 0.5852000117301941 \n",
      "Epoch 12, CIFAR-10 Batch 1:   Loss : 0.8261634707450867 \n",
      " Validation Accuracy : 0.592199981212616 \n",
      "Epoch 12, CIFAR-10 Batch 2:   Loss : 0.681164562702179 \n",
      " Validation Accuracy : 0.5745999813079834 \n",
      "Epoch 12, CIFAR-10 Batch 3:   Loss : 0.5318344235420227 \n",
      " Validation Accuracy : 0.5946000218391418 \n",
      "Epoch 12, CIFAR-10 Batch 4:   Loss : 0.5703870058059692 \n",
      " Validation Accuracy : 0.5856000185012817 \n",
      "Epoch 12, CIFAR-10 Batch 5:   Loss : 0.7291430234909058 \n",
      " Validation Accuracy : 0.5848000049591064 \n",
      "Epoch 13, CIFAR-10 Batch 1:   Loss : 0.72441565990448 \n",
      " Validation Accuracy : 0.5911999940872192 \n",
      "Epoch 13, CIFAR-10 Batch 2:   Loss : 0.6321767568588257 \n",
      " Validation Accuracy : 0.5803999900817871 \n",
      "Epoch 13, CIFAR-10 Batch 3:   Loss : 0.46344566345214844 \n",
      " Validation Accuracy : 0.5871999859809875 \n",
      "Epoch 13, CIFAR-10 Batch 4:   Loss : 0.5787453651428223 \n",
      " Validation Accuracy : 0.5911999940872192 \n",
      "Epoch 13, CIFAR-10 Batch 5:   Loss : 0.6552945971488953 \n",
      " Validation Accuracy : 0.5871999859809875 \n",
      "Epoch 14, CIFAR-10 Batch 1:   Loss : 0.7049394845962524 \n",
      " Validation Accuracy : 0.5866000056266785 \n",
      "Epoch 14, CIFAR-10 Batch 2:   Loss : 0.5819050073623657 \n",
      " Validation Accuracy : 0.5745999813079834 \n",
      "Epoch 14, CIFAR-10 Batch 3:   Loss : 0.4395233988761902 \n",
      " Validation Accuracy : 0.5888000130653381 \n",
      "Epoch 14, CIFAR-10 Batch 4:   Loss : 0.5139204263687134 \n",
      " Validation Accuracy : 0.5952000021934509 \n",
      "Epoch 14, CIFAR-10 Batch 5:   Loss : 0.623511552810669 \n",
      " Validation Accuracy : 0.5906000137329102 \n",
      "Epoch 15, CIFAR-10 Batch 1:   Loss : 0.6862956285476685 \n",
      " Validation Accuracy : 0.5992000102996826 \n",
      "Epoch 15, CIFAR-10 Batch 2:   Loss : 0.6259359121322632 \n",
      " Validation Accuracy : 0.5605999827384949 \n",
      "Epoch 15, CIFAR-10 Batch 3:   Loss : 0.41879481077194214 \n",
      " Validation Accuracy : 0.5953999757766724 \n",
      "Epoch 15, CIFAR-10 Batch 4:   Loss : 0.4998968541622162 \n",
      " Validation Accuracy : 0.5827999711036682 \n",
      "Epoch 15, CIFAR-10 Batch 5:   Loss : 0.5794001817703247 \n",
      " Validation Accuracy : 0.59579998254776 \n",
      "Epoch 16, CIFAR-10 Batch 1:   Loss : 0.668578028678894 \n",
      " Validation Accuracy : 0.5916000008583069 \n",
      "Epoch 16, CIFAR-10 Batch 2:   Loss : 0.5162428617477417 \n",
      " Validation Accuracy : 0.5888000130653381 \n",
      "Epoch 16, CIFAR-10 Batch 3:   Loss : 0.39335209131240845 \n",
      " Validation Accuracy : 0.5950000286102295 \n",
      "Epoch 16, CIFAR-10 Batch 4:   Loss : 0.48978719115257263 \n",
      " Validation Accuracy : 0.5848000049591064 \n",
      "Epoch 16, CIFAR-10 Batch 5:   Loss : 0.5535786151885986 \n",
      " Validation Accuracy : 0.5888000130653381 \n",
      "Epoch 17, CIFAR-10 Batch 1:   Loss : 0.5660521388053894 \n",
      " Validation Accuracy : 0.5848000049591064 \n",
      "Epoch 17, CIFAR-10 Batch 2:   Loss : 0.561491847038269 \n"
     ]
    },
    {
     "name": "stdout",
     "output_type": "stream",
     "text": [
      " Validation Accuracy : 0.5938000082969666 \n",
      "Epoch 17, CIFAR-10 Batch 3:   Loss : 0.3732839524745941 \n",
      " Validation Accuracy : 0.602400004863739 \n",
      "Epoch 17, CIFAR-10 Batch 4:   Loss : 0.47744083404541016 \n",
      " Validation Accuracy : 0.5784000158309937 \n",
      "Epoch 17, CIFAR-10 Batch 5:   Loss : 0.5590194463729858 \n",
      " Validation Accuracy : 0.5934000015258789 \n",
      "Epoch 18, CIFAR-10 Batch 1:   Loss : 0.604051411151886 \n",
      " Validation Accuracy : 0.5911999940872192 \n",
      "Epoch 18, CIFAR-10 Batch 2:   Loss : 0.5092900395393372 \n",
      " Validation Accuracy : 0.5888000130653381 \n",
      "Epoch 18, CIFAR-10 Batch 3:   Loss : 0.3694363236427307 \n",
      " Validation Accuracy : 0.5911999940872192 \n",
      "Epoch 18, CIFAR-10 Batch 4:   Loss : 0.4450628161430359 \n",
      " Validation Accuracy : 0.5907999873161316 \n",
      "Epoch 18, CIFAR-10 Batch 5:   Loss : 0.5076371431350708 \n",
      " Validation Accuracy : 0.5964000225067139 \n",
      "Epoch 19, CIFAR-10 Batch 1:   Loss : 0.5393632650375366 \n",
      " Validation Accuracy : 0.5978000164031982 \n",
      "Epoch 19, CIFAR-10 Batch 2:   Loss : 0.45154762268066406 \n",
      " Validation Accuracy : 0.6011999845504761 \n",
      "Epoch 19, CIFAR-10 Batch 3:   Loss : 0.33410754799842834 \n",
      " Validation Accuracy : 0.5979999899864197 \n",
      "Epoch 19, CIFAR-10 Batch 4:   Loss : 0.4318869113922119 \n",
      " Validation Accuracy : 0.5893999934196472 \n",
      "Epoch 19, CIFAR-10 Batch 5:   Loss : 0.42058515548706055 \n",
      " Validation Accuracy : 0.6037999987602234 \n",
      "Epoch 20, CIFAR-10 Batch 1:   Loss : 0.5478693246841431 \n",
      " Validation Accuracy : 0.5964000225067139 \n",
      "Epoch 20, CIFAR-10 Batch 2:   Loss : 0.4266142249107361 \n",
      " Validation Accuracy : 0.6046000123023987 \n",
      "Epoch 20, CIFAR-10 Batch 3:   Loss : 0.3515931963920593 \n",
      " Validation Accuracy : 0.6001999974250793 \n",
      "Epoch 20, CIFAR-10 Batch 4:   Loss : 0.40061911940574646 \n",
      " Validation Accuracy : 0.5925999879837036 \n",
      "Epoch 20, CIFAR-10 Batch 5:   Loss : 0.44349804520606995 \n",
      " Validation Accuracy : 0.6003999710083008 \n"
     ]
    }
   ],
   "source": [
    "\"\"\"\n",
    "DON'T MODIFY ANYTHING IN THIS CELL\n",
    "\"\"\"\n",
    "save_model_path = './image_classification'\n",
    "\n",
    "print('Training...')\n",
    "with tf.Session() as sess:\n",
    "    # Initializing the variables\n",
    "    sess.run(tf.global_variables_initializer())\n",
    "    \n",
    "    # Training cycle\n",
    "    for epoch in range(epochs):\n",
    "        # Loop over all batches\n",
    "        n_batches = 5\n",
    "        for batch_i in range(1, n_batches + 1):\n",
    "            for batch_features, batch_labels in helper.load_preprocess_training_batch(batch_i, batch_size):\n",
    "                train_neural_network(sess, optimizer, keep_probability, batch_features, batch_labels)\n",
    "            print('Epoch {:>2}, CIFAR-10 Batch {}:  '.format(epoch + 1, batch_i), end='')\n",
    "            print_stats(sess, batch_features, batch_labels, cost, accuracy)\n",
    "            \n",
    "    # Save Model\n",
    "    saver = tf.train.Saver()\n",
    "    save_path = saver.save(sess, save_model_path)"
   ]
  },
  {
   "cell_type": "markdown",
   "metadata": {},
   "source": [
    "# Checkpoint\n",
    "The model has been saved to disk.\n",
    "## Test Model\n",
    "Test your model against the test dataset.  This will be your final accuracy. You should have an accuracy greater than 50%. If you don't, keep tweaking the model architecture and parameters."
   ]
  },
  {
   "cell_type": "code",
   "execution_count": 101,
   "metadata": {},
   "outputs": [
    {
     "name": "stdout",
     "output_type": "stream",
     "text": [
      "INFO:tensorflow:Restoring parameters from ./image_classification\n",
      "Testing Accuracy: 0.5958267405063291\n",
      "\n"
     ]
    },
    {
     "data": {
      "image/png": "[encoded data removed]",
      "text/plain": [
       "<matplotlib.figure.Figure at 0x1deaa63e9e8>"
      ]
     },
     "metadata": {
      "image/png": {
       "height": 319,
       "width": 355
      }
     },
     "output_type": "display_data"
    }
   ],
   "source": [
    "\"\"\"\n",
    "DON'T MODIFY ANYTHING IN THIS CELL\n",
    "\"\"\"\n",
    "%matplotlib inline\n",
    "%config InlineBackend.figure_format = 'retina'\n",
    "\n",
    "import tensorflow as tf\n",
    "import pickle\n",
    "import helper\n",
    "import random\n",
    "\n",
    "# Set batch size if not already set\n",
    "try:\n",
    "    if batch_size:\n",
    "        pass\n",
    "except NameError:\n",
    "    batch_size = 64\n",
    "\n",
    "save_model_path = './image_classification'\n",
    "n_samples = 4\n",
    "top_n_predictions = 3\n",
    "\n",
    "def test_model():\n",
    "    \"\"\"\n",
    "    Test the saved model against the test dataset\n",
    "    \"\"\"\n",
    "\n",
    "    test_features, test_labels = pickle.load(open('preprocess_training.p', mode='rb'))\n",
    "    loaded_graph = tf.Graph()\n",
    "\n",
    "    with tf.Session(graph=loaded_graph) as sess:\n",
    "        # Load model\n",
    "        loader = tf.train.import_meta_graph(save_model_path + '.meta')\n",
    "        loader.restore(sess, save_model_path)\n",
    "\n",
    "        # Get Tensors from loaded model\n",
    "        loaded_x = loaded_graph.get_tensor_by_name('x:0')\n",
    "        loaded_y = loaded_graph.get_tensor_by_name('y:0')\n",
    "        loaded_keep_prob = loaded_graph.get_tensor_by_name('keep_prob:0')\n",
    "        loaded_logits = loaded_graph.get_tensor_by_name('logits:0')\n",
    "        loaded_acc = loaded_graph.get_tensor_by_name('accuracy:0')\n",
    "        \n",
    "        # Get accuracy in batches for memory limitations\n",
    "        test_batch_acc_total = 0\n",
    "        test_batch_count = 0\n",
    "        \n",
    "        for train_feature_batch, train_label_batch in helper.batch_features_labels(test_features, test_labels, batch_size):\n",
    "            test_batch_acc_total += sess.run(\n",
    "                loaded_acc,\n",
    "                feed_dict={loaded_x: train_feature_batch, loaded_y: train_label_batch, loaded_keep_prob: 1.0})\n",
    "            test_batch_count += 1\n",
    "\n",
    "        print('Testing Accuracy: {}\\n'.format(test_batch_acc_total/test_batch_count))\n",
    "\n",
    "        # Print Random Samples\n",
    "        random_test_features, random_test_labels = tuple(zip(*random.sample(list(zip(test_features, test_labels)), n_samples)))\n",
    "        random_test_predictions = sess.run(\n",
    "            tf.nn.top_k(tf.nn.softmax(loaded_logits), top_n_predictions),\n",
    "            feed_dict={loaded_x: random_test_features, loaded_y: random_test_labels, loaded_keep_prob: 1.0})\n",
    "        helper.display_image_predictions(random_test_features, random_test_labels, random_test_predictions)\n",
    "\n",
    "\n",
    "test_model()"
   ]
  },
  {
   "cell_type": "markdown",
   "metadata": {},
   "source": [
    "## Why 50-80% Accuracy?\n",
    "You might be wondering why you can't get an accuracy any higher. First things first, 50% isn't bad for a simple CNN.  Pure guessing would get you 10% accuracy. That's because there are many more techniques that can be applied to your model and we recemmond that once you are done with this project, you explore!\n",
    "\n",
    "## Submitting This Project\n",
    "When submitting this project, make sure to run all the cells before saving the notebook.  Save the notebook file as \"image_classification.ipynb\" and save it as a HTML file under \"File\" -> \"Download as\".  Include the \"helper.py\" and \"problem_unittests.py\" files in your submission."
   ]
  }
 ],
 "metadata": {
  "anaconda-cloud": {},
  "kernelspec": {
   "display_name": "Python 3",
   "language": "python",
   "name": "python3"
  },
  "language_info": {
   "codemirror_mode": {
    "name": "ipython",
    "version": 3
   },
   "file_extension": ".py",
   "mimetype": "text/x-python",
   "name": "python",
   "nbconvert_exporter": "python",
   "pygments_lexer": "ipython3",
   "version": "3.6.1"
  }
 },
 "nbformat": 4,
 "nbformat_minor": 1
}
